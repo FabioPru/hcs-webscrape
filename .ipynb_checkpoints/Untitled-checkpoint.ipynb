{
 "cells": [
  {
   "cell_type": "code",
   "execution_count": 58,
   "metadata": {
    "ExecuteTime": {
     "end_time": "2020-04-28T14:16:20.975113Z",
     "start_time": "2020-04-28T14:16:20.972656Z"
    }
   },
   "outputs": [],
   "source": [
    "import requests\n",
    "from bs4 import BeautifulSoup\n",
    "from random import choice\n"
   ]
  },
  {
   "cell_type": "code",
   "execution_count": 77,
   "metadata": {
    "ExecuteTime": {
     "end_time": "2020-04-28T14:19:45.248258Z",
     "start_time": "2020-04-28T14:19:45.245827Z"
    }
   },
   "outputs": [],
   "source": [
    "URL = 'https://www.thecrimson.com/article/2020/4/28/coronavirus-community-archive-project/'\n"
   ]
  },
  {
   "cell_type": "markdown",
   "metadata": {},
   "source": [
    "This function returns the body and text of a Crismon article"
   ]
  },
  {
   "cell_type": "code",
   "execution_count": 78,
   "metadata": {
    "ExecuteTime": {
     "end_time": "2020-04-28T14:19:57.494707Z",
     "start_time": "2020-04-28T14:19:57.490872Z"
    },
    "code_folding": []
   },
   "outputs": [],
   "source": [
    "def get_page_content(url):\n",
    "    page = requests.get(url).content\n",
    "    soup = BeautifulSoup(page, 'html.parser')\n",
    "    title = soup.find(\"h1\", {\"class\": \"css-14bzrai\"}).text\n",
    "    body = soup.find(\"div\", {\"class\": \"css-1hc0jhf\"}).text\n",
    "    \n",
    "    return title, body"
   ]
  },
  {
   "cell_type": "markdown",
   "metadata": {},
   "source": [
    "This function generates the URLs of a random related article from the sidebar"
   ]
  },
  {
   "cell_type": "code",
   "execution_count": 79,
   "metadata": {
    "ExecuteTime": {
     "end_time": "2020-04-28T14:19:59.071896Z",
     "start_time": "2020-04-28T14:19:59.068655Z"
    }
   },
   "outputs": [],
   "source": [
    "def get_random_related_article(url):\n",
    "    page = requests.get(url).content\n",
    "    soup = BeautifulSoup(page, 'html.parser')\n",
    "    lst = soup.find(\"div\", {\"class\": \"css-1fuzhtf\"})\n",
    "    link = choice(lst.findAll(\"a\"))\n",
    "    url = 'https://www.thecrimson.com' + link['href']\n",
    "    \n",
    "    return url"
   ]
  },
  {
   "cell_type": "markdown",
   "metadata": {},
   "source": [
    "Now we loop and print a list of 10 related articles to each other "
   ]
  },
  {
   "cell_type": "code",
   "execution_count": 85,
   "metadata": {
    "ExecuteTime": {
     "end_time": "2020-04-28T14:20:27.146586Z",
     "start_time": "2020-04-28T14:20:24.272500Z"
    }
   },
   "outputs": [
    {
     "name": "stdout",
     "output_type": "stream",
     "text": [
      "Harvard Archivists Scramble to Document Daily Life Amid Pandemic\n",
      "Office for the Arts Develops Digital Performance Series to Combat Social Isolation\n",
      "Houses Zoom to Digital Platforms to Continue Traditions, Social Events\n",
      "Harvard Faculty Say Coronavirus-Prompted Grading Change Will Level Academic Playing Field\n",
      "Harvard College Announced a New Grading Policy Friday. Then, Undergraduates Erupted.\n",
      "Harvard College Adopts Universal Satisfactory-Unsatisfactory Grading for Spring 2020 Due to Coronavirus​​​​​​​\n",
      "Harvard Undergraduate Council President and Vice President Advocate for ‘Double A’ Grading Model\n",
      "Harvard Law School Students Call for Uniform Grading Policy\n",
      "Departments Accept Pass-Fail Classes to Lift Pandemic Pressure on Concentrators\n",
      "‘The Shortest Notice Possible’: For First-Generation, Low-Income Students, Rapid Move-Out from Harvard Brings Unexpected Challenges\n"
     ]
    }
   ],
   "source": [
    "current_url = URL\n",
    "for _ in range(10):\n",
    "    print(get_page_content(current_url)[0])\n",
    "    current_url = get_random_related_article(current_url)"
   ]
  },
  {
   "cell_type": "code",
   "execution_count": null,
   "metadata": {},
   "outputs": [],
   "source": []
  }
 ],
 "metadata": {
  "kernelspec": {
   "display_name": "Python 3",
   "language": "python",
   "name": "python3"
  },
  "language_info": {
   "codemirror_mode": {
    "name": "ipython",
    "version": 3
   },
   "file_extension": ".py",
   "mimetype": "text/x-python",
   "name": "python",
   "nbconvert_exporter": "python",
   "pygments_lexer": "ipython3",
   "version": "3.7.4"
  },
  "latex_envs": {
   "LaTeX_envs_menu_present": true,
   "autoclose": true,
   "autocomplete": true,
   "bibliofile": "biblio.bib",
   "cite_by": "apalike",
   "current_citInitial": 1,
   "eqLabelWithNumbers": true,
   "eqNumInitial": 1,
   "hotkeys": {
    "equation": "Ctrl-E",
    "itemize": "Ctrl-I"
   },
   "labels_anchors": false,
   "latex_user_defs": false,
   "report_style_numbering": false,
   "user_envs_cfg": false
  },
  "nbTranslate": {
   "displayLangs": [
    "*"
   ],
   "hotkey": "alt-t",
   "langInMainMenu": true,
   "sourceLang": "en",
   "targetLang": "fr",
   "useGoogleTranslate": true
  }
 },
 "nbformat": 4,
 "nbformat_minor": 2
}
